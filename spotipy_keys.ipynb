{
 "cells": [
  {
   "cell_type": "code",
   "execution_count": null,
   "id": "96d08047",
   "metadata": {},
   "outputs": [],
   "source": [
    "{\n",
    "    \"username\": \"et5bhugzw7qq2psxbdcv0evn9\",\n",
    "    \"client_id\": \"286dd3966a7b455fb97991237b7863e7\",\n",
    "    \"client_secret\": \"9fb3a2e557c64983b3d045da50936210\",\n",
    "    \"redirect\": \"https://google.com/\"\n",
    "}"
   ]
  }
 ],
 "metadata": {
  "kernelspec": {
   "display_name": "Python 3 (ipykernel)",
   "language": "python",
   "name": "python3"
  },
  "language_info": {
   "codemirror_mode": {
    "name": "ipython",
    "version": 3
   },
   "file_extension": ".py",
   "mimetype": "text/x-python",
   "name": "python",
   "nbconvert_exporter": "python",
   "pygments_lexer": "ipython3",
   "version": "3.11.0"
  }
 },
 "nbformat": 4,
 "nbformat_minor": 5
}
